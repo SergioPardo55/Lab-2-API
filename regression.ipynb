{
 "cells": [
  {
   "attachments": {},
   "cell_type": "markdown",
   "metadata": {},
   "source": [
    "# Laboratorio 2 - Regresión"
   ]
  },
  {
   "cell_type": "markdown",
   "metadata": {},
   "source": [
    "A continuación presentamos nuestro mejor acercamiento para resolver el caso de MotorAlpes"
   ]
  },
  {
   "attachments": {},
   "cell_type": "markdown",
   "metadata": {},
   "source": [
    "### Librerias"
   ]
  },
  {
   "cell_type": "markdown",
   "metadata": {},
   "source": [
    "Para empezar, importamos las librerías que utilizaremos"
   ]
  },
  {
   "cell_type": "code",
   "execution_count": 1,
   "metadata": {},
   "outputs": [],
   "source": [
    "# Importamos las librerias que se usaran para el proyecto\n",
    "import pandas as pd\n",
    "import matplotlib.pyplot as plt\n",
    "import numpy as np\n",
    "from joblib import dump, load\n",
    "\n",
    "from sklearn.preprocessing import OrdinalEncoder, FunctionTransformer, StandardScaler\n",
    "from sklearn.impute import SimpleImputer\n",
    "from sklearn.compose import ColumnTransformer\n",
    "from sklearn.pipeline import Pipeline\n",
    "from sklearn.linear_model import LinearRegression, Lasso, Ridge\n",
    "from sklearn.model_selection import train_test_split\n",
    "from sklearn.base import BaseEstimator, TransformerMixin\n",
    "from sklearn.metrics import r2_score, mean_squared_error\n",
    "from sklearn.metrics import roc_auc_score, accuracy_score, confusion_matrix\n",
    "from sklearn.svm import SVC\n",
    "\n",
    "from sklearn.metrics import mean_squared_error as mse"
   ]
  },
  {
   "attachments": {},
   "cell_type": "markdown",
   "metadata": {},
   "source": [
    "### Carga datos"
   ]
  },
  {
   "cell_type": "markdown",
   "metadata": {},
   "source": [
    "Carga de los datos históricos con los que se entrenará al modelo. \n",
    "Como se puede observar, estos datos cuentan con la columna \"selling_price\" la cual será el feature que se quiere encontrar a partir del modelo entrenado para el caso de los datos nuevos."
   ]
  },
  {
   "cell_type": "code",
   "execution_count": 2,
   "metadata": {},
   "outputs": [],
   "source": [
    "df_original = pd.read_csv('./data/MotorAlpes_data.csv')\n",
    "raw = df_original.copy()"
   ]
  },
  {
   "cell_type": "code",
   "execution_count": 3,
   "metadata": {},
   "outputs": [],
   "source": [
    "a = pd.read_csv('./data/MotorAlpes_data.csv')"
   ]
  },
  {
   "cell_type": "code",
   "execution_count": 4,
   "metadata": {},
   "outputs": [],
   "source": [
    "raw = raw.dropna(subset=[\"selling_price\"])"
   ]
  },
  {
   "cell_type": "markdown",
   "metadata": {},
   "source": [
    "Además, al ser selling_price nuestra columna objetivo, eliminamos los datos nulos de esta. Esto ya que el entrenamiento del m odelo no admite datos nulos en al ser entrenado"
   ]
  },
  {
   "attachments": {},
   "cell_type": "markdown",
   "metadata": {},
   "source": [
    "### Entendimiento"
   ]
  },
  {
   "cell_type": "code",
   "execution_count": 5,
   "metadata": {},
   "outputs": [
    {
     "name": "stdout",
     "output_type": "stream",
     "text": [
      "<class 'pandas.core.frame.DataFrame'>\n",
      "Int64Index: 6714 entries, 0 to 7114\n",
      "Data columns (total 12 columns):\n",
      " #   Column         Non-Null Count  Dtype  \n",
      "---  ------         --------------  -----  \n",
      " 0   Unnamed: 0     6714 non-null   int64  \n",
      " 1   year           6486 non-null   float64\n",
      " 2   km_driven      6526 non-null   float64\n",
      " 3   owner          6486 non-null   object \n",
      " 4   seller_type    6714 non-null   object \n",
      " 5   seats          6714 non-null   float64\n",
      " 6   fuel           6714 non-null   object \n",
      " 7   transmission   6714 non-null   object \n",
      " 8   mileage        6526 non-null   float64\n",
      " 9   engine         6444 non-null   float64\n",
      " 10  max_power      6456 non-null   float64\n",
      " 11  selling_price  6714 non-null   float64\n",
      "dtypes: float64(7), int64(1), object(4)\n",
      "memory usage: 681.9+ KB\n"
     ]
    }
   ],
   "source": [
    "raw.info()"
   ]
  },
  {
   "cell_type": "markdown",
   "metadata": {},
   "source": [
    "Como se puede observar, hay una gran cantidad de columnas con valores numéricos, lo que a primera vista puede parecer adecuado para usar como features para el entrenamiento del modelo. Sin embargo, no hay que descartar las variables de tipo object ya que pueden tener información relevante para el entrenamiento."
   ]
  },
  {
   "cell_type": "markdown",
   "metadata": {},
   "source": [
    "Por otro lado, se puede observar una columna \"Unnamed\" la cual es simplemente una numeración del registro. Es por esto que se considera que no tiene relación alguna con los datos."
   ]
  },
  {
   "cell_type": "markdown",
   "metadata": {},
   "source": [
    "Se usan los datos históricos en esta sección debido que los tipos de datos serán los mismos para los datos nuevos."
   ]
  },
  {
   "cell_type": "markdown",
   "metadata": {},
   "source": [
    "Finalmente se aprecia que la mayoria de las columnas no estan completas y presentan valores nullos, sin embargo, los valores faltantes no represetan mas del 5% de cada columna entonces se pueden aplicar metodos para llenar los vacios."
   ]
  },
  {
   "cell_type": "markdown",
   "metadata": {},
   "source": [
    "Es importante aclarar, que este proceso de limpieza y adecuación de datos se realizan dentro del pipeline."
   ]
  },
  {
   "cell_type": "code",
   "execution_count": 6,
   "metadata": {},
   "outputs": [
    {
     "data": {
      "image/png": "[encoded data removed]",
      "text/plain": [
       "<Figure size 640x480 with 1 Axes>"
      ]
     },
     "metadata": {},
     "output_type": "display_data"
    }
   ],
   "source": [
    "raw.boxplot(column='year')\n",
    "plt.show()"
   ]
  },
  {
   "cell_type": "markdown",
   "metadata": {},
   "source": [
    "Aquí vemos que es necesario eliminar los datos extremos para la variable año."
   ]
  },
  {
   "cell_type": "code",
   "execution_count": 7,
   "metadata": {},
   "outputs": [],
   "source": [
    "# Variables explicatvias\n",
    "X = raw.drop(columns=['selling_price'])\n",
    "\n",
    "# Variable de decision\n",
    "y = raw[['selling_price']]\n",
    "\n",
    "# Division\n",
    "X_train, X_test, y_train, y_test = train_test_split(X, y, random_state = 0)"
   ]
  },
  {
   "cell_type": "markdown",
   "metadata": {},
   "source": [
    "### Estadísticas generales"
   ]
  },
  {
   "cell_type": "code",
   "execution_count": 8,
   "metadata": {},
   "outputs": [
    {
     "data": {
      "text/html": [
       "<div>\n",
       "<style scoped>\n",
       "    .dataframe tbody tr th:only-of-type {\n",
       "        vertical-align: middle;\n",
       "    }\n",
       "\n",
       "    .dataframe tbody tr th {\n",
       "        vertical-align: top;\n",
       "    }\n",
       "\n",
       "    .dataframe thead th {\n",
       "        text-align: right;\n",
       "    }\n",
       "</style>\n",
       "<table border=\"1\" class=\"dataframe\">\n",
       "  <thead>\n",
       "    <tr style=\"text-align: right;\">\n",
       "      <th></th>\n",
       "      <th>Unnamed: 0</th>\n",
       "      <th>year</th>\n",
       "      <th>km_driven</th>\n",
       "      <th>seats</th>\n",
       "      <th>mileage</th>\n",
       "      <th>engine</th>\n",
       "      <th>max_power</th>\n",
       "    </tr>\n",
       "  </thead>\n",
       "  <tbody>\n",
       "    <tr>\n",
       "      <th>count</th>\n",
       "      <td>5035.000000</td>\n",
       "      <td>4856.000000</td>\n",
       "      <td>4.895000e+03</td>\n",
       "      <td>5035.000000</td>\n",
       "      <td>4895.000000</td>\n",
       "      <td>4839.000000</td>\n",
       "      <td>4846.000000</td>\n",
       "    </tr>\n",
       "    <tr>\n",
       "      <th>mean</th>\n",
       "      <td>4059.392056</td>\n",
       "      <td>2013.983114</td>\n",
       "      <td>6.950631e+04</td>\n",
       "      <td>5.405760</td>\n",
       "      <td>19.526904</td>\n",
       "      <td>1835.429634</td>\n",
       "      <td>141.328607</td>\n",
       "    </tr>\n",
       "    <tr>\n",
       "      <th>std</th>\n",
       "      <td>2348.037899</td>\n",
       "      <td>3.859601</td>\n",
       "      <td>6.141784e+04</td>\n",
       "      <td>0.955301</td>\n",
       "      <td>4.221072</td>\n",
       "      <td>2366.033334</td>\n",
       "      <td>274.350103</td>\n",
       "    </tr>\n",
       "    <tr>\n",
       "      <th>min</th>\n",
       "      <td>0.000000</td>\n",
       "      <td>1995.000000</td>\n",
       "      <td>1.000000e+03</td>\n",
       "      <td>2.000000</td>\n",
       "      <td>0.000000</td>\n",
       "      <td>4.000000</td>\n",
       "      <td>1.070000</td>\n",
       "    </tr>\n",
       "    <tr>\n",
       "      <th>25%</th>\n",
       "      <td>2007.500000</td>\n",
       "      <td>2012.000000</td>\n",
       "      <td>3.500000e+04</td>\n",
       "      <td>5.000000</td>\n",
       "      <td>16.800000</td>\n",
       "      <td>1197.000000</td>\n",
       "      <td>68.000000</td>\n",
       "    </tr>\n",
       "    <tr>\n",
       "      <th>50%</th>\n",
       "      <td>4036.000000</td>\n",
       "      <td>2015.000000</td>\n",
       "      <td>6.000000e+04</td>\n",
       "      <td>5.000000</td>\n",
       "      <td>19.330000</td>\n",
       "      <td>1248.000000</td>\n",
       "      <td>82.850000</td>\n",
       "    </tr>\n",
       "    <tr>\n",
       "      <th>75%</th>\n",
       "      <td>6104.500000</td>\n",
       "      <td>2017.000000</td>\n",
       "      <td>9.600000e+04</td>\n",
       "      <td>5.000000</td>\n",
       "      <td>22.320000</td>\n",
       "      <td>1591.000000</td>\n",
       "      <td>103.600000</td>\n",
       "    </tr>\n",
       "    <tr>\n",
       "      <th>max</th>\n",
       "      <td>8127.000000</td>\n",
       "      <td>2020.000000</td>\n",
       "      <td>2.360457e+06</td>\n",
       "      <td>14.000000</td>\n",
       "      <td>46.816000</td>\n",
       "      <td>19972.000000</td>\n",
       "      <td>1995.640000</td>\n",
       "    </tr>\n",
       "  </tbody>\n",
       "</table>\n",
       "</div>"
      ],
      "text/plain": [
       "        Unnamed: 0         year     km_driven        seats      mileage  \\\n",
       "count  5035.000000  4856.000000  4.895000e+03  5035.000000  4895.000000   \n",
       "mean   4059.392056  2013.983114  6.950631e+04     5.405760    19.526904   \n",
       "std    2348.037899     3.859601  6.141784e+04     0.955301     4.221072   \n",
       "min       0.000000  1995.000000  1.000000e+03     2.000000     0.000000   \n",
       "25%    2007.500000  2012.000000  3.500000e+04     5.000000    16.800000   \n",
       "50%    4036.000000  2015.000000  6.000000e+04     5.000000    19.330000   \n",
       "75%    6104.500000  2017.000000  9.600000e+04     5.000000    22.320000   \n",
       "max    8127.000000  2020.000000  2.360457e+06    14.000000    46.816000   \n",
       "\n",
       "             engine    max_power  \n",
       "count   4839.000000  4846.000000  \n",
       "mean    1835.429634   141.328607  \n",
       "std     2366.033334   274.350103  \n",
       "min        4.000000     1.070000  \n",
       "25%     1197.000000    68.000000  \n",
       "50%     1248.000000    82.850000  \n",
       "75%     1591.000000   103.600000  \n",
       "max    19972.000000  1995.640000  "
      ]
     },
     "execution_count": 8,
     "metadata": {},
     "output_type": "execute_result"
    }
   ],
   "source": [
    "X_train.select_dtypes(include=np.number).describe()"
   ]
  },
  {
   "cell_type": "code",
   "execution_count": 9,
   "metadata": {},
   "outputs": [
    {
     "data": {
      "text/html": [
       "<div>\n",
       "<style scoped>\n",
       "    .dataframe tbody tr th:only-of-type {\n",
       "        vertical-align: middle;\n",
       "    }\n",
       "\n",
       "    .dataframe tbody tr th {\n",
       "        vertical-align: top;\n",
       "    }\n",
       "\n",
       "    .dataframe thead th {\n",
       "        text-align: right;\n",
       "    }\n",
       "</style>\n",
       "<table border=\"1\" class=\"dataframe\">\n",
       "  <thead>\n",
       "    <tr style=\"text-align: right;\">\n",
       "      <th></th>\n",
       "      <th>Unnamed: 0</th>\n",
       "      <th>year</th>\n",
       "      <th>km_driven</th>\n",
       "      <th>seats</th>\n",
       "      <th>mileage</th>\n",
       "      <th>engine</th>\n",
       "      <th>max_power</th>\n",
       "    </tr>\n",
       "  </thead>\n",
       "  <tbody>\n",
       "    <tr>\n",
       "      <th>count</th>\n",
       "      <td>1679.000000</td>\n",
       "      <td>1630.000000</td>\n",
       "      <td>1631.000000</td>\n",
       "      <td>1679.000000</td>\n",
       "      <td>1631.000000</td>\n",
       "      <td>1605.000000</td>\n",
       "      <td>1610.000000</td>\n",
       "    </tr>\n",
       "    <tr>\n",
       "      <th>mean</th>\n",
       "      <td>4062.164384</td>\n",
       "      <td>2013.987730</td>\n",
       "      <td>67710.259350</td>\n",
       "      <td>5.422871</td>\n",
       "      <td>19.552977</td>\n",
       "      <td>1854.693458</td>\n",
       "      <td>145.848814</td>\n",
       "    </tr>\n",
       "    <tr>\n",
       "      <th>std</th>\n",
       "      <td>2345.464711</td>\n",
       "      <td>3.871299</td>\n",
       "      <td>48399.991772</td>\n",
       "      <td>0.951055</td>\n",
       "      <td>4.327314</td>\n",
       "      <td>2410.209863</td>\n",
       "      <td>281.634488</td>\n",
       "    </tr>\n",
       "    <tr>\n",
       "      <th>min</th>\n",
       "      <td>1.000000</td>\n",
       "      <td>1994.000000</td>\n",
       "      <td>1.000000</td>\n",
       "      <td>4.000000</td>\n",
       "      <td>0.000000</td>\n",
       "      <td>4.000000</td>\n",
       "      <td>2.350000</td>\n",
       "    </tr>\n",
       "    <tr>\n",
       "      <th>25%</th>\n",
       "      <td>2062.000000</td>\n",
       "      <td>2012.000000</td>\n",
       "      <td>31377.000000</td>\n",
       "      <td>5.000000</td>\n",
       "      <td>16.800000</td>\n",
       "      <td>1197.000000</td>\n",
       "      <td>70.000000</td>\n",
       "    </tr>\n",
       "    <tr>\n",
       "      <th>50%</th>\n",
       "      <td>4114.000000</td>\n",
       "      <td>2015.000000</td>\n",
       "      <td>60000.000000</td>\n",
       "      <td>5.000000</td>\n",
       "      <td>19.300000</td>\n",
       "      <td>1248.000000</td>\n",
       "      <td>83.800000</td>\n",
       "    </tr>\n",
       "    <tr>\n",
       "      <th>75%</th>\n",
       "      <td>6057.500000</td>\n",
       "      <td>2017.000000</td>\n",
       "      <td>90000.000000</td>\n",
       "      <td>5.000000</td>\n",
       "      <td>22.370000</td>\n",
       "      <td>1598.000000</td>\n",
       "      <td>108.450000</td>\n",
       "    </tr>\n",
       "    <tr>\n",
       "      <th>max</th>\n",
       "      <td>8126.000000</td>\n",
       "      <td>2020.000000</td>\n",
       "      <td>380000.000000</td>\n",
       "      <td>10.000000</td>\n",
       "      <td>46.816000</td>\n",
       "      <td>19723.000000</td>\n",
       "      <td>1969.150000</td>\n",
       "    </tr>\n",
       "  </tbody>\n",
       "</table>\n",
       "</div>"
      ],
      "text/plain": [
       "        Unnamed: 0         year      km_driven        seats      mileage  \\\n",
       "count  1679.000000  1630.000000    1631.000000  1679.000000  1631.000000   \n",
       "mean   4062.164384  2013.987730   67710.259350     5.422871    19.552977   \n",
       "std    2345.464711     3.871299   48399.991772     0.951055     4.327314   \n",
       "min       1.000000  1994.000000       1.000000     4.000000     0.000000   \n",
       "25%    2062.000000  2012.000000   31377.000000     5.000000    16.800000   \n",
       "50%    4114.000000  2015.000000   60000.000000     5.000000    19.300000   \n",
       "75%    6057.500000  2017.000000   90000.000000     5.000000    22.370000   \n",
       "max    8126.000000  2020.000000  380000.000000    10.000000    46.816000   \n",
       "\n",
       "             engine    max_power  \n",
       "count   1605.000000  1610.000000  \n",
       "mean    1854.693458   145.848814  \n",
       "std     2410.209863   281.634488  \n",
       "min        4.000000     2.350000  \n",
       "25%     1197.000000    70.000000  \n",
       "50%     1248.000000    83.800000  \n",
       "75%     1598.000000   108.450000  \n",
       "max    19723.000000  1969.150000  "
      ]
     },
     "execution_count": 9,
     "metadata": {},
     "output_type": "execute_result"
    }
   ],
   "source": [
    "X_test.select_dtypes(include=np.number).describe()"
   ]
  },
  {
   "cell_type": "markdown",
   "metadata": {},
   "source": [
    "### Como estan nuestros datos"
   ]
  },
  {
   "cell_type": "code",
   "execution_count": 10,
   "metadata": {},
   "outputs": [
    {
     "data": {
      "text/html": [
       "<div>\n",
       "<style scoped>\n",
       "    .dataframe tbody tr th:only-of-type {\n",
       "        vertical-align: middle;\n",
       "    }\n",
       "\n",
       "    .dataframe tbody tr th {\n",
       "        vertical-align: top;\n",
       "    }\n",
       "\n",
       "    .dataframe thead th {\n",
       "        text-align: right;\n",
       "    }\n",
       "</style>\n",
       "<table border=\"1\" class=\"dataframe\">\n",
       "  <thead>\n",
       "    <tr style=\"text-align: right;\">\n",
       "      <th></th>\n",
       "      <th>Unnamed: 0</th>\n",
       "      <th>year</th>\n",
       "      <th>km_driven</th>\n",
       "      <th>owner</th>\n",
       "      <th>seller_type</th>\n",
       "      <th>seats</th>\n",
       "      <th>fuel</th>\n",
       "      <th>transmission</th>\n",
       "      <th>mileage</th>\n",
       "      <th>engine</th>\n",
       "      <th>max_power</th>\n",
       "    </tr>\n",
       "  </thead>\n",
       "  <tbody>\n",
       "    <tr>\n",
       "      <th>1728</th>\n",
       "      <td>1975</td>\n",
       "      <td>2017.0</td>\n",
       "      <td>10000.0</td>\n",
       "      <td>First Owner</td>\n",
       "      <td>Individual</td>\n",
       "      <td>5.0</td>\n",
       "      <td>Petrol</td>\n",
       "      <td>Automatic</td>\n",
       "      <td>18.9</td>\n",
       "      <td>1197.0</td>\n",
       "      <td>81.86</td>\n",
       "    </tr>\n",
       "  </tbody>\n",
       "</table>\n",
       "</div>"
      ],
      "text/plain": [
       "      Unnamed: 0    year  km_driven        owner seller_type  seats    fuel  \\\n",
       "1728        1975  2017.0    10000.0  First Owner  Individual    5.0  Petrol   \n",
       "\n",
       "     transmission  mileage  engine  max_power  \n",
       "1728    Automatic     18.9  1197.0      81.86  "
      ]
     },
     "execution_count": 10,
     "metadata": {},
     "output_type": "execute_result"
    }
   ],
   "source": [
    "X_train.head(1)"
   ]
  },
  {
   "cell_type": "code",
   "execution_count": 11,
   "metadata": {},
   "outputs": [
    {
     "data": {
      "text/html": [
       "<div>\n",
       "<style scoped>\n",
       "    .dataframe tbody tr th:only-of-type {\n",
       "        vertical-align: middle;\n",
       "    }\n",
       "\n",
       "    .dataframe tbody tr th {\n",
       "        vertical-align: top;\n",
       "    }\n",
       "\n",
       "    .dataframe thead th {\n",
       "        text-align: right;\n",
       "    }\n",
       "</style>\n",
       "<table border=\"1\" class=\"dataframe\">\n",
       "  <thead>\n",
       "    <tr style=\"text-align: right;\">\n",
       "      <th></th>\n",
       "      <th>Unnamed: 0</th>\n",
       "      <th>year</th>\n",
       "      <th>km_driven</th>\n",
       "      <th>owner</th>\n",
       "      <th>seller_type</th>\n",
       "      <th>seats</th>\n",
       "      <th>fuel</th>\n",
       "      <th>transmission</th>\n",
       "      <th>mileage</th>\n",
       "      <th>engine</th>\n",
       "      <th>max_power</th>\n",
       "    </tr>\n",
       "  </thead>\n",
       "  <tbody>\n",
       "    <tr>\n",
       "      <th>1439</th>\n",
       "      <td>1649</td>\n",
       "      <td>2008.0</td>\n",
       "      <td>128000.0</td>\n",
       "      <td>First Owner</td>\n",
       "      <td>Individual</td>\n",
       "      <td>5.0</td>\n",
       "      <td>Petrol</td>\n",
       "      <td>Manual</td>\n",
       "      <td>0.0</td>\n",
       "      <td>1086.0</td>\n",
       "      <td>62.0</td>\n",
       "    </tr>\n",
       "  </tbody>\n",
       "</table>\n",
       "</div>"
      ],
      "text/plain": [
       "      Unnamed: 0    year  km_driven        owner seller_type  seats    fuel  \\\n",
       "1439        1649  2008.0   128000.0  First Owner  Individual    5.0  Petrol   \n",
       "\n",
       "     transmission  mileage  engine  max_power  \n",
       "1439       Manual      0.0  1086.0       62.0  "
      ]
     },
     "execution_count": 11,
     "metadata": {},
     "output_type": "execute_result"
    }
   ],
   "source": [
    "X_test.head(1)"
   ]
  },
  {
   "cell_type": "markdown",
   "metadata": {},
   "source": [
    "### Valores nulos"
   ]
  },
  {
   "cell_type": "markdown",
   "metadata": {},
   "source": [
    "Se realiza un conteo de valores nulos para entender a mayor profundidad los datos proporcionados"
   ]
  },
  {
   "cell_type": "code",
   "execution_count": 12,
   "metadata": {},
   "outputs": [
    {
     "data": {
      "text/plain": [
       "Unnamed: 0        0\n",
       "year            179\n",
       "km_driven       140\n",
       "owner           179\n",
       "seller_type       0\n",
       "seats             0\n",
       "fuel              0\n",
       "transmission      0\n",
       "mileage         140\n",
       "engine          196\n",
       "max_power       189\n",
       "dtype: int64"
      ]
     },
     "execution_count": 12,
     "metadata": {},
     "output_type": "execute_result"
    }
   ],
   "source": [
    "X_train.isna().sum()"
   ]
  },
  {
   "cell_type": "code",
   "execution_count": 13,
   "metadata": {},
   "outputs": [
    {
     "data": {
      "text/plain": [
       "Unnamed: 0       0\n",
       "year            49\n",
       "km_driven       48\n",
       "owner           49\n",
       "seller_type      0\n",
       "seats            0\n",
       "fuel             0\n",
       "transmission     0\n",
       "mileage         48\n",
       "engine          74\n",
       "max_power       69\n",
       "dtype: int64"
      ]
     },
     "execution_count": 13,
     "metadata": {},
     "output_type": "execute_result"
    }
   ],
   "source": [
    "X_test.isna().sum()"
   ]
  },
  {
   "cell_type": "markdown",
   "metadata": {},
   "source": [
    "### Correlación entre variables"
   ]
  },
  {
   "cell_type": "code",
   "execution_count": 14,
   "metadata": {},
   "outputs": [
    {
     "data": {
      "text/html": [
       "<div>\n",
       "<style scoped>\n",
       "    .dataframe tbody tr th:only-of-type {\n",
       "        vertical-align: middle;\n",
       "    }\n",
       "\n",
       "    .dataframe tbody tr th {\n",
       "        vertical-align: top;\n",
       "    }\n",
       "\n",
       "    .dataframe thead th {\n",
       "        text-align: right;\n",
       "    }\n",
       "</style>\n",
       "<table border=\"1\" class=\"dataframe\">\n",
       "  <thead>\n",
       "    <tr style=\"text-align: right;\">\n",
       "      <th></th>\n",
       "      <th>Unnamed: 0</th>\n",
       "      <th>year</th>\n",
       "      <th>km_driven</th>\n",
       "      <th>seats</th>\n",
       "      <th>mileage</th>\n",
       "      <th>engine</th>\n",
       "      <th>max_power</th>\n",
       "      <th>selling_price</th>\n",
       "    </tr>\n",
       "  </thead>\n",
       "  <tbody>\n",
       "    <tr>\n",
       "      <th>Unnamed: 0</th>\n",
       "      <td>1.000000</td>\n",
       "      <td>0.003151</td>\n",
       "      <td>0.010194</td>\n",
       "      <td>-0.018011</td>\n",
       "      <td>0.020083</td>\n",
       "      <td>0.008964</td>\n",
       "      <td>-0.008447</td>\n",
       "      <td>-0.005223</td>\n",
       "    </tr>\n",
       "    <tr>\n",
       "      <th>year</th>\n",
       "      <td>0.003151</td>\n",
       "      <td>1.000000</td>\n",
       "      <td>-0.419177</td>\n",
       "      <td>-0.015016</td>\n",
       "      <td>0.311537</td>\n",
       "      <td>-0.003238</td>\n",
       "      <td>0.059415</td>\n",
       "      <td>0.106258</td>\n",
       "    </tr>\n",
       "    <tr>\n",
       "      <th>km_driven</th>\n",
       "      <td>0.010194</td>\n",
       "      <td>-0.419177</td>\n",
       "      <td>1.000000</td>\n",
       "      <td>0.222831</td>\n",
       "      <td>-0.159854</td>\n",
       "      <td>0.037390</td>\n",
       "      <td>-0.007648</td>\n",
       "      <td>-0.058903</td>\n",
       "    </tr>\n",
       "    <tr>\n",
       "      <th>seats</th>\n",
       "      <td>-0.018011</td>\n",
       "      <td>-0.015016</td>\n",
       "      <td>0.222831</td>\n",
       "      <td>1.000000</td>\n",
       "      <td>-0.436438</td>\n",
       "      <td>0.119522</td>\n",
       "      <td>0.024754</td>\n",
       "      <td>0.014288</td>\n",
       "    </tr>\n",
       "    <tr>\n",
       "      <th>mileage</th>\n",
       "      <td>0.020083</td>\n",
       "      <td>0.311537</td>\n",
       "      <td>-0.159854</td>\n",
       "      <td>-0.436438</td>\n",
       "      <td>1.000000</td>\n",
       "      <td>-0.120993</td>\n",
       "      <td>-0.037468</td>\n",
       "      <td>-0.025673</td>\n",
       "    </tr>\n",
       "    <tr>\n",
       "      <th>engine</th>\n",
       "      <td>0.008964</td>\n",
       "      <td>-0.003238</td>\n",
       "      <td>0.037390</td>\n",
       "      <td>0.119522</td>\n",
       "      <td>-0.120993</td>\n",
       "      <td>1.000000</td>\n",
       "      <td>0.000005</td>\n",
       "      <td>0.034228</td>\n",
       "    </tr>\n",
       "    <tr>\n",
       "      <th>max_power</th>\n",
       "      <td>-0.008447</td>\n",
       "      <td>0.059415</td>\n",
       "      <td>-0.007648</td>\n",
       "      <td>0.024754</td>\n",
       "      <td>-0.037468</td>\n",
       "      <td>0.000005</td>\n",
       "      <td>1.000000</td>\n",
       "      <td>0.016089</td>\n",
       "    </tr>\n",
       "    <tr>\n",
       "      <th>selling_price</th>\n",
       "      <td>-0.005223</td>\n",
       "      <td>0.106258</td>\n",
       "      <td>-0.058903</td>\n",
       "      <td>0.014288</td>\n",
       "      <td>-0.025673</td>\n",
       "      <td>0.034228</td>\n",
       "      <td>0.016089</td>\n",
       "      <td>1.000000</td>\n",
       "    </tr>\n",
       "  </tbody>\n",
       "</table>\n",
       "</div>"
      ],
      "text/plain": [
       "               Unnamed: 0      year  km_driven     seats   mileage    engine  \\\n",
       "Unnamed: 0       1.000000  0.003151   0.010194 -0.018011  0.020083  0.008964   \n",
       "year             0.003151  1.000000  -0.419177 -0.015016  0.311537 -0.003238   \n",
       "km_driven        0.010194 -0.419177   1.000000  0.222831 -0.159854  0.037390   \n",
       "seats           -0.018011 -0.015016   0.222831  1.000000 -0.436438  0.119522   \n",
       "mileage          0.020083  0.311537  -0.159854 -0.436438  1.000000 -0.120993   \n",
       "engine           0.008964 -0.003238   0.037390  0.119522 -0.120993  1.000000   \n",
       "max_power       -0.008447  0.059415  -0.007648  0.024754 -0.037468  0.000005   \n",
       "selling_price   -0.005223  0.106258  -0.058903  0.014288 -0.025673  0.034228   \n",
       "\n",
       "               max_power  selling_price  \n",
       "Unnamed: 0     -0.008447      -0.005223  \n",
       "year            0.059415       0.106258  \n",
       "km_driven      -0.007648      -0.058903  \n",
       "seats           0.024754       0.014288  \n",
       "mileage        -0.037468      -0.025673  \n",
       "engine          0.000005       0.034228  \n",
       "max_power       1.000000       0.016089  \n",
       "selling_price   0.016089       1.000000  "
      ]
     },
     "execution_count": 14,
     "metadata": {},
     "output_type": "execute_result"
    }
   ],
   "source": [
    "raw.select_dtypes(include=np.number).corr()"
   ]
  },
  {
   "cell_type": "markdown",
   "metadata": {},
   "source": [
    "A pesar de que la correlación es una medida que puede ayudar a conocer la relación entre dos variables, en este caso ninguna de las variables tiene una correlación suficiente como para ser tomada en cuenta respecto al \"selling_price\". A pesar de esto, dos de las correlaciones más altas son:\"year\" - \"km_driven\", \"seats\" - \"mileage\"."
   ]
  },
  {
   "attachments": {},
   "cell_type": "markdown",
   "metadata": {},
   "source": [
    "### Separacion entrenamiento y prueba"
   ]
  },
  {
   "cell_type": "code",
   "execution_count": 15,
   "metadata": {},
   "outputs": [],
   "source": [
    "# Variables explicatvias\n",
    "X = raw.drop(columns=['selling_price'])\n",
    "\n",
    "# Variable de decision\n",
    "y = raw[['selling_price']]\n",
    "\n",
    "# Division\n",
    "X_train, X_test, y_train, y_test = train_test_split(X, y, random_state = 0)"
   ]
  },
  {
   "attachments": {},
   "cell_type": "markdown",
   "metadata": {},
   "source": [
    "### Listas de variables"
   ]
  },
  {
   "cell_type": "markdown",
   "metadata": {},
   "source": [
    "Creamos las variables que utilizaremos en el proceso para entrenar el modelo."
   ]
  },
  {
   "cell_type": "code",
   "execution_count": 16,
   "metadata": {},
   "outputs": [],
   "source": [
    "numeric_columns = ['year',\n",
    "                   'km_driven',\n",
    "                   'seats',\n",
    "                   'mileage',\n",
    "                   'engine',\n",
    "                   'max_power']\n",
    "\n",
    "categoric_columns = ['owner',\n",
    "                    'seller_type',\n",
    "                    'fuel',\n",
    "                    'transmission']\n",
    "\n",
    "not_owner_columns = ['seller_type',\n",
    "                     'fuel',\n",
    "                     'transmission']\n",
    "\n",
    "not_owner_columns_2 = ['fuel',\n",
    "                     'transmission']\n"
   ]
  },
  {
   "cell_type": "code",
   "execution_count": 17,
   "metadata": {},
   "outputs": [],
   "source": [
    "owner_categories = [[\"Test Drive Car\",\"First Owner\",\"Second Owner\",\"Third Owner\",\"Fourth & Above Owner\"]]"
   ]
  },
  {
   "attachments": {},
   "cell_type": "markdown",
   "metadata": {},
   "source": [
    "### Transformadores"
   ]
  },
  {
   "cell_type": "markdown",
   "metadata": {},
   "source": [
    "Inicializamos los transformadores para adecuar los datos."
   ]
  },
  {
   "cell_type": "code",
   "execution_count": 18,
   "metadata": {},
   "outputs": [],
   "source": [
    "class UnnamedTransformer():\n",
    "    def __init__(self,column):\n",
    "        self.column=column\n",
    "\n",
    "    def transform(self,X,y=None):\n",
    "        return X.drop(self.column,axis=1)\n",
    "\n",
    "    def fit(self, X, y=None):\n",
    "        return self "
   ]
  },
  {
   "cell_type": "code",
   "execution_count": 19,
   "metadata": {},
   "outputs": [],
   "source": [
    "class Dropper():\n",
    "    def __init__(self,columns):\n",
    "        self.columns=columns\n",
    "\n",
    "    def transform(self,X,y=None):\n",
    "        return X.drop(self.columns,axis=1)\n",
    "\n",
    "    def fit(self, X, y=None):\n",
    "        return self"
   ]
  },
  {
   "cell_type": "code",
   "execution_count": 20,
   "metadata": {},
   "outputs": [],
   "source": [
    "def year_transformer(col):\n",
    "    # Definiendo variables necesarias\n",
    "    year_imputer = SimpleImputer(strategy='median')\n",
    "\n",
    "    # Imputacion basica para nulls\n",
    "    imputed = year_imputer.fit_transform(col)\n",
    "    year_filled = pd.DataFrame(data=imputed, columns=['year'])\n",
    "\n",
    "    # Eliminando outliers columna year [1994, 2020]\n",
    "    index_year = year_filled[ (year_filled['year'] < 2005) & (year_filled['year'] > 2020) ].index\n",
    "    year_filled.drop(index_year, inplace=True)\n",
    "\n",
    "    # Aplicando el Label Encoder para 'owner'\n",
    "    for index, row in year_filled.iterrows():\n",
    "        year_filled.at[index,'year'] = 2023 - row['year']\n",
    "\n",
    "    return year_filled"
   ]
  },
  {
   "cell_type": "code",
   "execution_count": 21,
   "metadata": {},
   "outputs": [],
   "source": [
    "def km_driven_transformer(col):\n",
    "    # Definiendo variables necesarias\n",
    "    km_imputer = SimpleImputer(strategy='mean')\n",
    "\n",
    "    # Imputacion basica para nulls\n",
    "    imputed = km_imputer.fit_transform(col)\n",
    "    km_filled = pd.DataFrame(data=imputed, columns=['km_driven'])\n",
    "\n",
    "    # Aplicando el Label Encoder para 'km_driven'\n",
    "    for index, row in km_filled.iterrows():\n",
    "        km_filled.at[index,'km_driven'] = row['km_driven']/1000\n",
    "\n",
    "    return km_filled"
   ]
  },
  {
   "cell_type": "code",
   "execution_count": 22,
   "metadata": {},
   "outputs": [],
   "source": [
    "def mileage_transformer(col):\n",
    "    # Definiendo variables necesarias\n",
    "    mileage_imputer = SimpleImputer(strategy='mean')\n",
    "\n",
    "    # Imputacion basica para nulls\n",
    "    imputed = mileage_imputer.fit_transform(col)\n",
    "    mileage_filled = pd.DataFrame(data=imputed, columns=['mileage'])\n",
    "\n",
    "    # Aplicando el Label Encoder para 'mileage'\n",
    "    for index, row in mileage_filled.iterrows():\n",
    "        mileage_filled.at[index,'mileage'] = row['mileage']/1000\n",
    "\n",
    "    return mileage_filled"
   ]
  },
  {
   "cell_type": "code",
   "execution_count": 23,
   "metadata": {},
   "outputs": [],
   "source": [
    "def engine_transformer(col):\n",
    "    # Definiendo variables necesarias\n",
    "    engine_imputer = SimpleImputer(strategy='mean')\n",
    "\n",
    "    # Imputacion basica para nulls\n",
    "    imputed = engine_imputer.fit_transform(col)\n",
    "    engine_filled = pd.DataFrame(data=imputed, columns=['engine'])\n",
    "\n",
    "    # Aplicando el Label Encoder para 'engine'\n",
    "    for index, row in engine_filled.iterrows():\n",
    "        engine_filled.at[index,'engine'] = row['engine']/100\n",
    "\n",
    "    return engine_filled"
   ]
  },
  {
   "cell_type": "code",
   "execution_count": 24,
   "metadata": {},
   "outputs": [],
   "source": [
    "def max_power_transformer(col):\n",
    "    # Definiendo variables necesarias\n",
    "    power_imputer = SimpleImputer(strategy='mean')\n",
    "\n",
    "    # Imputacion basica para nulls\n",
    "    imputed = power_imputer.fit_transform(col)\n",
    "    power_filled = pd.DataFrame(data=imputed, columns=['power'])\n",
    "\n",
    "    # Aplicando el Label Encoder para 'engine'\n",
    "    for index, row in power_filled.iterrows():\n",
    "        power_filled.at[index,'power'] = row['power']/10\n",
    "\n",
    "    return power_filled"
   ]
  },
  {
   "cell_type": "code",
   "execution_count": 25,
   "metadata": {},
   "outputs": [],
   "source": [
    "owner_transformer = Pipeline(steps=[\n",
    "       ('owner_imputer', SimpleImputer(strategy='most_frequent')),\n",
    "       ('owner_transformer', OrdinalEncoder(categories=owner_categories))\n",
    "])"
   ]
  },
  {
   "cell_type": "code",
   "execution_count": 26,
   "metadata": {},
   "outputs": [],
   "source": [
    "categoric_not_owner_transformer = Pipeline(steps=[\n",
    "       ('not_owner_imputer', SimpleImputer(strategy='most_frequent')),\n",
    "       ('not_owner_transformer', OrdinalEncoder())\n",
    "])"
   ]
  },
  {
   "cell_type": "code",
   "execution_count": 27,
   "metadata": {},
   "outputs": [],
   "source": [
    "seats_transformer = Pipeline(steps=[\n",
    "       ('numeric_imputer', SimpleImputer(strategy='median'))\n",
    "])"
   ]
  },
  {
   "attachments": {},
   "cell_type": "markdown",
   "metadata": {},
   "source": [
    "### Pre procesamiento por columnas"
   ]
  },
  {
   "cell_type": "code",
   "execution_count": 28,
   "metadata": {},
   "outputs": [],
   "source": [
    "preprocessor = ColumnTransformer(\n",
    "   transformers=[\n",
    "    ('year_transformer',FunctionTransformer(year_transformer,validate=False),['year']),\n",
    "    ('km_driven_transformer',FunctionTransformer(km_driven_transformer,validate=False),['km_driven']),\n",
    "    ('mileage_transformer',FunctionTransformer(mileage_transformer,validate=False),['mileage']),\n",
    "    ('engine_transformer',FunctionTransformer(engine_transformer,validate=False),['engine']),\n",
    "    ('max_power_transformer',FunctionTransformer(max_power_transformer,validate=False),['max_power']),\n",
    "    ('owner_transformer',owner_transformer,['owner']),\n",
    "    ('categoric_not_owner', categoric_not_owner_transformer,not_owner_columns),\n",
    "    ('categoric_owner', seats_transformer,['seats'])\n",
    "   ])"
   ]
  },
  {
   "cell_type": "code",
   "execution_count": 29,
   "metadata": {},
   "outputs": [],
   "source": [
    "preprocessor_2 = ColumnTransformer(\n",
    "   transformers=[\n",
    "    ('year_transformer',FunctionTransformer(year_transformer,validate=False),['year']),\n",
    "    ('km_driven_transformer',FunctionTransformer(km_driven_transformer,validate=False),['km_driven']),\n",
    "    ('mileage_transformer',FunctionTransformer(mileage_transformer,validate=False),['mileage']),\n",
    "    ('categoric_not_owner', categoric_not_owner_transformer,not_owner_columns_2),\n",
    "   ])"
   ]
  },
  {
   "cell_type": "code",
   "execution_count": 30,
   "metadata": {},
   "outputs": [],
   "source": [
    "preprocessor_3 = ColumnTransformer(\n",
    "   transformers=[\n",
    "    ('year_transformer',FunctionTransformer(year_transformer,validate=False),['year']),\n",
    "    ('km_driven_transformer',FunctionTransformer(km_driven_transformer,validate=False),['km_driven']),\n",
    "    ('mileage_transformer',FunctionTransformer(mileage_transformer,validate=False),['mileage'])\n",
    "   ])"
   ]
  },
  {
   "attachments": {},
   "cell_type": "markdown",
   "metadata": {},
   "source": [
    "### Comprobando el df"
   ]
  },
  {
   "cell_type": "code",
   "execution_count": 31,
   "metadata": {},
   "outputs": [
    {
     "data": {
      "text/html": [
       "<div>\n",
       "<style scoped>\n",
       "    .dataframe tbody tr th:only-of-type {\n",
       "        vertical-align: middle;\n",
       "    }\n",
       "\n",
       "    .dataframe tbody tr th {\n",
       "        vertical-align: top;\n",
       "    }\n",
       "\n",
       "    .dataframe thead th {\n",
       "        text-align: right;\n",
       "    }\n",
       "</style>\n",
       "<table border=\"1\" class=\"dataframe\">\n",
       "  <thead>\n",
       "    <tr style=\"text-align: right;\">\n",
       "      <th></th>\n",
       "      <th>year</th>\n",
       "      <th>km_driven</th>\n",
       "      <th>mileage</th>\n",
       "      <th>engine</th>\n",
       "      <th>max_power</th>\n",
       "      <th>owner</th>\n",
       "      <th>seller_type</th>\n",
       "      <th>fuel</th>\n",
       "      <th>transmission</th>\n",
       "      <th>seats</th>\n",
       "    </tr>\n",
       "  </thead>\n",
       "  <tbody>\n",
       "    <tr>\n",
       "      <th>0</th>\n",
       "      <td>6.0</td>\n",
       "      <td>10.000</td>\n",
       "      <td>0.01890</td>\n",
       "      <td>11.970000</td>\n",
       "      <td>8.186000</td>\n",
       "      <td>1.0</td>\n",
       "      <td>1.0</td>\n",
       "      <td>3.0</td>\n",
       "      <td>0.0</td>\n",
       "      <td>5.0</td>\n",
       "    </tr>\n",
       "    <tr>\n",
       "      <th>1</th>\n",
       "      <td>11.0</td>\n",
       "      <td>140.000</td>\n",
       "      <td>0.01888</td>\n",
       "      <td>19.950000</td>\n",
       "      <td>18.400000</td>\n",
       "      <td>2.0</td>\n",
       "      <td>1.0</td>\n",
       "      <td>1.0</td>\n",
       "      <td>0.0</td>\n",
       "      <td>5.0</td>\n",
       "    </tr>\n",
       "    <tr>\n",
       "      <th>2</th>\n",
       "      <td>10.0</td>\n",
       "      <td>190.000</td>\n",
       "      <td>0.02340</td>\n",
       "      <td>18.354296</td>\n",
       "      <td>14.132861</td>\n",
       "      <td>2.0</td>\n",
       "      <td>1.0</td>\n",
       "      <td>1.0</td>\n",
       "      <td>1.0</td>\n",
       "      <td>5.0</td>\n",
       "    </tr>\n",
       "    <tr>\n",
       "      <th>3</th>\n",
       "      <td>4.0</td>\n",
       "      <td>30.000</td>\n",
       "      <td>0.01240</td>\n",
       "      <td>19.990000</td>\n",
       "      <td>14.790000</td>\n",
       "      <td>1.0</td>\n",
       "      <td>1.0</td>\n",
       "      <td>1.0</td>\n",
       "      <td>0.0</td>\n",
       "      <td>5.0</td>\n",
       "    </tr>\n",
       "    <tr>\n",
       "      <th>4</th>\n",
       "      <td>10.0</td>\n",
       "      <td>57.000</td>\n",
       "      <td>0.02290</td>\n",
       "      <td>12.480000</td>\n",
       "      <td>7.400000</td>\n",
       "      <td>1.0</td>\n",
       "      <td>1.0</td>\n",
       "      <td>1.0</td>\n",
       "      <td>1.0</td>\n",
       "      <td>5.0</td>\n",
       "    </tr>\n",
       "    <tr>\n",
       "      <th>...</th>\n",
       "      <td>...</td>\n",
       "      <td>...</td>\n",
       "      <td>...</td>\n",
       "      <td>...</td>\n",
       "      <td>...</td>\n",
       "      <td>...</td>\n",
       "      <td>...</td>\n",
       "      <td>...</td>\n",
       "      <td>...</td>\n",
       "      <td>...</td>\n",
       "    </tr>\n",
       "    <tr>\n",
       "      <th>5030</th>\n",
       "      <td>7.0</td>\n",
       "      <td>120.000</td>\n",
       "      <td>0.02452</td>\n",
       "      <td>12.480000</td>\n",
       "      <td>8.850000</td>\n",
       "      <td>1.0</td>\n",
       "      <td>1.0</td>\n",
       "      <td>1.0</td>\n",
       "      <td>1.0</td>\n",
       "      <td>7.0</td>\n",
       "    </tr>\n",
       "    <tr>\n",
       "      <th>5031</th>\n",
       "      <td>11.0</td>\n",
       "      <td>70.000</td>\n",
       "      <td>0.02110</td>\n",
       "      <td>8.140000</td>\n",
       "      <td>5.520000</td>\n",
       "      <td>1.0</td>\n",
       "      <td>1.0</td>\n",
       "      <td>3.0</td>\n",
       "      <td>1.0</td>\n",
       "      <td>5.0</td>\n",
       "    </tr>\n",
       "    <tr>\n",
       "      <th>5032</th>\n",
       "      <td>5.0</td>\n",
       "      <td>26.235</td>\n",
       "      <td>0.01655</td>\n",
       "      <td>24.980000</td>\n",
       "      <td>10.500000</td>\n",
       "      <td>1.0</td>\n",
       "      <td>0.0</td>\n",
       "      <td>1.0</td>\n",
       "      <td>1.0</td>\n",
       "      <td>6.0</td>\n",
       "    </tr>\n",
       "    <tr>\n",
       "      <th>5033</th>\n",
       "      <td>8.0</td>\n",
       "      <td>40.000</td>\n",
       "      <td>0.01596</td>\n",
       "      <td>25.230000</td>\n",
       "      <td>6.210000</td>\n",
       "      <td>2.0</td>\n",
       "      <td>1.0</td>\n",
       "      <td>1.0</td>\n",
       "      <td>1.0</td>\n",
       "      <td>7.0</td>\n",
       "    </tr>\n",
       "    <tr>\n",
       "      <th>5034</th>\n",
       "      <td>5.0</td>\n",
       "      <td>50.000</td>\n",
       "      <td>0.01510</td>\n",
       "      <td>21.790000</td>\n",
       "      <td>15.287000</td>\n",
       "      <td>1.0</td>\n",
       "      <td>1.0</td>\n",
       "      <td>1.0</td>\n",
       "      <td>1.0</td>\n",
       "      <td>7.0</td>\n",
       "    </tr>\n",
       "  </tbody>\n",
       "</table>\n",
       "<p>5035 rows × 10 columns</p>\n",
       "</div>"
      ],
      "text/plain": [
       "      year  km_driven  mileage     engine  max_power  owner  seller_type  \\\n",
       "0      6.0     10.000  0.01890  11.970000   8.186000    1.0          1.0   \n",
       "1     11.0    140.000  0.01888  19.950000  18.400000    2.0          1.0   \n",
       "2     10.0    190.000  0.02340  18.354296  14.132861    2.0          1.0   \n",
       "3      4.0     30.000  0.01240  19.990000  14.790000    1.0          1.0   \n",
       "4     10.0     57.000  0.02290  12.480000   7.400000    1.0          1.0   \n",
       "...    ...        ...      ...        ...        ...    ...          ...   \n",
       "5030   7.0    120.000  0.02452  12.480000   8.850000    1.0          1.0   \n",
       "5031  11.0     70.000  0.02110   8.140000   5.520000    1.0          1.0   \n",
       "5032   5.0     26.235  0.01655  24.980000  10.500000    1.0          0.0   \n",
       "5033   8.0     40.000  0.01596  25.230000   6.210000    2.0          1.0   \n",
       "5034   5.0     50.000  0.01510  21.790000  15.287000    1.0          1.0   \n",
       "\n",
       "      fuel  transmission  seats  \n",
       "0      3.0           0.0    5.0  \n",
       "1      1.0           0.0    5.0  \n",
       "2      1.0           1.0    5.0  \n",
       "3      1.0           0.0    5.0  \n",
       "4      1.0           1.0    5.0  \n",
       "...    ...           ...    ...  \n",
       "5030   1.0           1.0    7.0  \n",
       "5031   3.0           1.0    5.0  \n",
       "5032   1.0           1.0    6.0  \n",
       "5033   1.0           1.0    7.0  \n",
       "5034   1.0           1.0    7.0  \n",
       "\n",
       "[5035 rows x 10 columns]"
      ]
     },
     "execution_count": 31,
     "metadata": {},
     "output_type": "execute_result"
    }
   ],
   "source": [
    "all_names = ['year','km_driven','mileage','engine','max_power','owner','seller_type','fuel','transmission','seats']\n",
    "pipe_preprocessor = Pipeline([(\"preprocessor\", preprocessor), (\"pandarizer\", FunctionTransformer(lambda x: pd.DataFrame(x, columns = all_names)))]).fit(X_train)\n",
    "pipe_preprocessor.transform(X_train)"
   ]
  },
  {
   "attachments": {},
   "cell_type": "markdown",
   "metadata": {},
   "source": [
    "### Creacion del pipeline"
   ]
  },
  {
   "cell_type": "markdown",
   "metadata": {},
   "source": [
    "Se utilizan varios Pipelines para probar distintas técnicas de regresión."
   ]
  },
  {
   "cell_type": "code",
   "execution_count": 32,
   "metadata": {},
   "outputs": [],
   "source": [
    "linear_regression = Pipeline(steps = [\n",
    "                ('eliminar Unnamed:0', UnnamedTransformer(['Unnamed: 0'])),\n",
    "                ('preprocessor', preprocessor),\n",
    "                ('standard', StandardScaler()),\n",
    "                ('linear',LinearRegression())\n",
    "           ])"
   ]
  },
  {
   "cell_type": "code",
   "execution_count": 33,
   "metadata": {},
   "outputs": [],
   "source": [
    "lasso_regression = Pipeline(steps = [\n",
    "                ('eliminar Unnamed:0', UnnamedTransformer(['Unnamed: 0'])),\n",
    "                ('preprocessor', preprocessor),\n",
    "                 ('standard', StandardScaler()),\n",
    "                ('lasso',Lasso(alpha=0.5))\n",
    "           ])"
   ]
  },
  {
   "cell_type": "code",
   "execution_count": 34,
   "metadata": {},
   "outputs": [],
   "source": [
    "ridge_regression = Pipeline(steps = [\n",
    "                ('eliminar Unnamed:0', UnnamedTransformer(['Unnamed: 0'])),\n",
    "                ('preprocessor', preprocessor),\n",
    "                ('standard', StandardScaler()),\n",
    "                ('ridge',Lasso(alpha=1.0))\n",
    "           ])"
   ]
  },
  {
   "cell_type": "code",
   "execution_count": 35,
   "metadata": {},
   "outputs": [],
   "source": [
    "linear_regression_2 = Pipeline(steps = [\n",
    "                ('eliminar Unnamed:0', UnnamedTransformer(['Unnamed: 0'])),\n",
    "                ('eliminar columnas', Dropper(['engine','max_power','owner','seller_type','seats'])),\n",
    "                ('preprocessor_2', preprocessor_2),\n",
    "                 ('standard', StandardScaler()),\n",
    "                ('linear_2',LinearRegression())\n",
    "           ])"
   ]
  },
  {
   "cell_type": "code",
   "execution_count": 36,
   "metadata": {},
   "outputs": [],
   "source": [
    "linear_regression_3 = Pipeline(steps = [\n",
    "                ('eliminar Unnamed:0', UnnamedTransformer(['Unnamed: 0'])),\n",
    "                ('eliminar columnas', Dropper(['engine','max_power','owner','seller_type','fuel','transmission','seats'])),\n",
    "                ('preprocessor_3', preprocessor_3),\n",
    "                 ('standard', StandardScaler()),\n",
    "                ('linear_3',LinearRegression())\n",
    "           ])"
   ]
  },
  {
   "cell_type": "code",
   "execution_count": 37,
   "metadata": {},
   "outputs": [],
   "source": [
    "linear_model = linear_regression.fit(X_train, y_train)\n",
    "lasso_model = lasso_regression.fit(X_train, y_train)\n",
    "ridge_model = ridge_regression.fit(X_train,y_train)\n",
    "linear_model_2 = linear_regression_2.fit(X_train, y_train)\n",
    "linear_model_3 = linear_regression_3.fit(X_train, y_train)\n"
   ]
  },
  {
   "attachments": {},
   "cell_type": "markdown",
   "metadata": {},
   "source": [
    "### Exportacion"
   ]
  },
  {
   "cell_type": "code",
   "execution_count": 38,
   "metadata": {},
   "outputs": [
    {
     "data": {
      "text/plain": [
       "['linear_regression.joblib']"
      ]
     },
     "execution_count": 38,
     "metadata": {},
     "output_type": "execute_result"
    }
   ],
   "source": [
    "dump(linear_regression, \"modelo.joblib\")"
   ]
  },
  {
   "attachments": {},
   "cell_type": "markdown",
   "metadata": {},
   "source": [
    "### Pruebas"
   ]
  },
  {
   "cell_type": "code",
   "execution_count": 39,
   "metadata": {},
   "outputs": [
    {
     "name": "stdout",
     "output_type": "stream",
     "text": [
      "El R^2 es de: 0.05010871898722602\n",
      "El error cuadratico medio es de: 1201911617.7700531\n"
     ]
    }
   ],
   "source": [
    "linear_predictions = linear_model.predict(X_test)\n",
    "print (f\"El R^2 es de: {r2_score(y_test, linear_predictions)}\")\n",
    "print (f\"El error cuadratico medio es de: {mean_squared_error(y_test, linear_predictions)}\")"
   ]
  },
  {
   "cell_type": "code",
   "execution_count": 40,
   "metadata": {},
   "outputs": [
    {
     "name": "stdout",
     "output_type": "stream",
     "text": [
      "El R^2 es de: 0.05010777014973411\n",
      "El error cuadratico medio es de: 1201912818.3482957\n"
     ]
    }
   ],
   "source": [
    "lasso_predictions = lasso_model.predict(X_test)\n",
    "print (f\"El R^2 es de: {r2_score(y_test, lasso_predictions)}\")\n",
    "print (f\"El error cuadratico medio es de: {mean_squared_error(y_test, lasso_predictions)}\")"
   ]
  },
  {
   "cell_type": "code",
   "execution_count": 41,
   "metadata": {},
   "outputs": [
    {
     "name": "stdout",
     "output_type": "stream",
     "text": [
      "El R^2 es de: 0.04846326029332915\n",
      "El error cuadratico medio es de: 1203993641.2187226\n"
     ]
    }
   ],
   "source": [
    "linear_predictions_2 = linear_model_2.predict(X_test)\n",
    "print (f\"El R^2 es de: {r2_score(y_test, linear_predictions_2)}\")\n",
    "print (f\"El error cuadratico medio es de: {mean_squared_error(y_test, linear_predictions_2)}\")"
   ]
  },
  {
   "cell_type": "code",
   "execution_count": 42,
   "metadata": {},
   "outputs": [
    {
     "name": "stdout",
     "output_type": "stream",
     "text": [
      "El R^2 es de: 0.05010680617727559\n",
      "El error cuadratico medio es de: 1201914038.0770376\n"
     ]
    }
   ],
   "source": [
    "ridge_predictions = ridge_model.predict(X_test)\n",
    "print (f\"El R^2 es de: {r2_score(y_test, ridge_predictions)}\")\n",
    "print (f\"El error cuadratico medio es de: {mean_squared_error(y_test, ridge_predictions)}\")"
   ]
  },
  {
   "cell_type": "code",
   "execution_count": 43,
   "metadata": {},
   "outputs": [
    {
     "name": "stdout",
     "output_type": "stream",
     "text": [
      "El R^2 es de: 0.020561766434964435\n",
      "El error cuadratico medio es de: 1239297817.9090836\n"
     ]
    }
   ],
   "source": [
    "linear_predictions_3 = linear_model_3.predict(X_test)\n",
    "print (f\"El R^2 es de: {r2_score(y_test, linear_predictions_3)}\")\n",
    "print (f\"El error cuadratico medio es de: {mean_squared_error(y_test, linear_predictions_3)}\")"
   ]
  },
  {
   "cell_type": "markdown",
   "metadata": {},
   "source": [
    "### Supuestos"
   ]
  },
  {
   "cell_type": "code",
   "execution_count": 44,
   "metadata": {},
   "outputs": [
    {
     "data": {
      "text/html": [
       "<div>\n",
       "<style scoped>\n",
       "    .dataframe tbody tr th:only-of-type {\n",
       "        vertical-align: middle;\n",
       "    }\n",
       "\n",
       "    .dataframe tbody tr th {\n",
       "        vertical-align: top;\n",
       "    }\n",
       "\n",
       "    .dataframe thead th {\n",
       "        text-align: right;\n",
       "    }\n",
       "</style>\n",
       "<table border=\"1\" class=\"dataframe\">\n",
       "  <thead>\n",
       "    <tr style=\"text-align: right;\">\n",
       "      <th></th>\n",
       "      <th>columns</th>\n",
       "      <th>coef</th>\n",
       "    </tr>\n",
       "  </thead>\n",
       "  <tbody>\n",
       "    <tr>\n",
       "      <th>0</th>\n",
       "      <td>year</td>\n",
       "      <td>-2984.062608</td>\n",
       "    </tr>\n",
       "    <tr>\n",
       "      <th>1</th>\n",
       "      <td>km_driven</td>\n",
       "      <td>-754.753441</td>\n",
       "    </tr>\n",
       "    <tr>\n",
       "      <th>2</th>\n",
       "      <td>mileage</td>\n",
       "      <td>-1320.239453</td>\n",
       "    </tr>\n",
       "    <tr>\n",
       "      <th>3</th>\n",
       "      <td>engine</td>\n",
       "      <td>513.313799</td>\n",
       "    </tr>\n",
       "    <tr>\n",
       "      <th>4</th>\n",
       "      <td>max_power</td>\n",
       "      <td>-22.814581</td>\n",
       "    </tr>\n",
       "    <tr>\n",
       "      <th>5</th>\n",
       "      <td>owner</td>\n",
       "      <td>-125.079923</td>\n",
       "    </tr>\n",
       "    <tr>\n",
       "      <th>6</th>\n",
       "      <td>seller_type</td>\n",
       "      <td>-711.063270</td>\n",
       "    </tr>\n",
       "    <tr>\n",
       "      <th>7</th>\n",
       "      <td>fuel</td>\n",
       "      <td>-1841.594190</td>\n",
       "    </tr>\n",
       "    <tr>\n",
       "      <th>8</th>\n",
       "      <td>transmission</td>\n",
       "      <td>-4581.563374</td>\n",
       "    </tr>\n",
       "    <tr>\n",
       "      <th>9</th>\n",
       "      <td>seats</td>\n",
       "      <td>264.335048</td>\n",
       "    </tr>\n",
       "  </tbody>\n",
       "</table>\n",
       "</div>"
      ],
      "text/plain": [
       "        columns         coef\n",
       "0          year -2984.062608\n",
       "1     km_driven  -754.753441\n",
       "2       mileage -1320.239453\n",
       "3        engine   513.313799\n",
       "4     max_power   -22.814581\n",
       "5         owner  -125.079923\n",
       "6   seller_type  -711.063270\n",
       "7          fuel -1841.594190\n",
       "8  transmission -4581.563374\n",
       "9         seats   264.335048"
      ]
     },
     "execution_count": 44,
     "metadata": {},
     "output_type": "execute_result"
    }
   ],
   "source": [
    "pd.DataFrame({'columns':['year','km_driven','mileage','engine','max_power','owner','seller_type','fuel','transmission','seats'], 'coef':(linear_regression['linear'].coef_).tolist()[0]})"
   ]
  },
  {
   "cell_type": "code",
   "execution_count": 45,
   "metadata": {},
   "outputs": [
    {
     "data": {
      "text/html": [
       "<div>\n",
       "<style scoped>\n",
       "    .dataframe tbody tr th:only-of-type {\n",
       "        vertical-align: middle;\n",
       "    }\n",
       "\n",
       "    .dataframe tbody tr th {\n",
       "        vertical-align: top;\n",
       "    }\n",
       "\n",
       "    .dataframe thead th {\n",
       "        text-align: right;\n",
       "    }\n",
       "</style>\n",
       "<table border=\"1\" class=\"dataframe\">\n",
       "  <thead>\n",
       "    <tr style=\"text-align: right;\">\n",
       "      <th></th>\n",
       "      <th>columns</th>\n",
       "      <th>coef</th>\n",
       "    </tr>\n",
       "  </thead>\n",
       "  <tbody>\n",
       "    <tr>\n",
       "      <th>0</th>\n",
       "      <td>year</td>\n",
       "      <td>-4696.792718</td>\n",
       "    </tr>\n",
       "    <tr>\n",
       "      <th>1</th>\n",
       "      <td>km_driven</td>\n",
       "      <td>-689.942552</td>\n",
       "    </tr>\n",
       "    <tr>\n",
       "      <th>2</th>\n",
       "      <td>mileage</td>\n",
       "      <td>-2692.662232</td>\n",
       "    </tr>\n",
       "  </tbody>\n",
       "</table>\n",
       "</div>"
      ],
      "text/plain": [
       "     columns         coef\n",
       "0       year -4696.792718\n",
       "1  km_driven  -689.942552\n",
       "2    mileage -2692.662232"
      ]
     },
     "execution_count": 45,
     "metadata": {},
     "output_type": "execute_result"
    }
   ],
   "source": [
    "pd.DataFrame({'columns':['year','km_driven','mileage'], 'coef':(linear_regression_3['linear_3'].coef_).tolist()[0]})\n"
   ]
  }
 ],
 "metadata": {
  "kernelspec": {
   "display_name": "Python 3",
   "language": "python",
   "name": "python3"
  },
  "language_info": {
   "codemirror_mode": {
    "name": "ipython",
    "version": 3
   },
   "file_extension": ".py",
   "mimetype": "text/x-python",
   "name": "python",
   "nbconvert_exporter": "python",
   "pygments_lexer": "ipython3",
   "version": "3.9.13"
  },
  "orig_nbformat": 4
 },
 "nbformat": 4,
 "nbformat_minor": 2
}
